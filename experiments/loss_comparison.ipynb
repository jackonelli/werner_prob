{
 "cells": [
  {
   "cell_type": "markdown",
   "metadata": {},
   "source": [
    "# Comparing alternative losses for classification\n",
    "\n",
    "Classification networks commonly estimates a vector of _logits_ for a given input.\n",
    "The logits are then squashed with a soft-max function to get a proper probability vector.\n",
    "The probability vector is compared to the true class label (represented as a one-hot vector)\n",
    "through an NLL-loss.\n",
    "\n",
    "The result are over-confident networks, which are really only uncertain at class boundaries.\n",
    "Testing on _out of distribution_ data tend to give extreme logits which saturate the soft-max function,\n",
    "giving extremely confident predictions.\n",
    "\n",
    "An alternative approach is to represent the classes with arbitrary directions in some high-dimensional space.\n",
    "Now, the network is trained to match input to the correct direction.\n",
    "The rationale for this representation is:\n",
    "\n",
    " - With $K << D$, where $K$ is the number of classes and $D$ the dimension of the directions space,\n",
    " then the class directions are likely to be more or less orthogonal.\n",
    " - With an OOD sample, some element(s) in the predicted direction vector will be far off and so be orthogonal to _all_ classes making it easy to classify as OOD."
   ]
  },
  {
   "cell_type": "code",
   "execution_count": null,
   "metadata": {},
   "outputs": [],
   "source": [
    "\"\"\"Training on MNIST\"\"\"\n",
    "\n",
    "# Jupyter notebook meta-settings to always reload our python code\n",
    "# rather than only the first time this cell is run\n",
    "%load_ext autoreload\n",
    "%autoreload 2\n",
    "\n",
    "# Hack to get the notebook to operate from the repo root\n",
    "import os\n",
    "from pathlib import Path\n",
    "while not (Path.cwd() / \".git\").exists():\n",
    "    os.chdir(Path.cwd() / \"..\")\n",
    "\n",
    "# Actual dependencies\n",
    "import torch\n",
    "import torch.optim as optim\n",
    "from src.train import train, TrainSettings, TRAIN_KEY, VAL_KEY\n",
    "import src.models.cnn as cnn\n",
    "from src.loss.cross_entropy import Loss as XeLoss\n",
    "from src.dataloaders import mnist\n",
    "\n",
    "experiment_name = \"classical\"\n",
    "num_epochs = 3\n",
    "batch_size_train = 64\n",
    "batch_size_test = 1000\n",
    "learning_rate = 0.01\n",
    "momentum = 0.5\n",
    "\n",
    "random_seed = 1\n",
    "torch.backends.cudnn.enabled = False\n",
    "torch.manual_seed(random_seed)\n",
    "\n",
    "model = cnn.Net()\n",
    "loss_function = XeLoss()\n",
    "optimizer = optim.SGD(model.parameters(),\n",
    "                      lr=learning_rate,\n",
    "                      momentum=momentum)\n",
    "\n",
    "datasets = {TRAIN_KEY: mnist.trainloader(batch_size_train), VAL_KEY: mnist.testloader(batch_size_test)}\n",
    "\n",
    "train_settings = TrainSettings(log_interval=50, num_epochs=num_epochs)\n",
    "            \n",
    "model = train(model, datasets, loss_function,\n",
    "      optimizer, train_settings)\n",
    "\n",
    "torch.save(model.state_dict(), Path.cwd() / \"results/{}.pth\".format(experiment_name))\n",
    "torch.save(optimizer.state_dict(), Path.cwd() / \"results/{}_optimizer.pth\".format(experiment_name))"
   ]
  },
  {
   "cell_type": "markdown",
   "metadata": {},
   "source": [
    "# Angle representation\n",
    "\n",
    "It is conceptually easy to see the promise of the angle representation but how do we express it in a loss function?\n",
    "\n",
    "### Definitions:\n",
    "\n",
    "- $x$, input\n",
    "- $\\hat{y}(x) \\in \\mathbb{R}^{D}$, direction estimated by the network.\n",
    "- $\\mathcal{Y}_{ref} = \\{y_k\\}_{k=1}^K$ a set of reference directions where $y_k \\in \\mathbb{R}^D,\\ \\forall k$.\n",
    "- $y(x) \\in \\mathcal{Y}_{ref} $, true direction (arbitrarily indexing the correct class)\n",
    "- $\\alpha_k$, angle between $\\hat{y}(x)$ and $y_k$\n",
    "\n",
    "### Possible losses:\n",
    "\n",
    "- Minising/maximising actual angle to correct/incorrect (Orthogonal is maximal)\n",
    "- $1 / cos(\\alpha)$\n",
    "- ... ?"
   ]
  }
 ],
 "metadata": {
  "kernelspec": {
   "display_name": "Python 3",
   "language": "python",
   "name": "python3"
  },
  "language_info": {
   "codemirror_mode": {
    "name": "ipython",
    "version": 3
   },
   "file_extension": ".py",
   "mimetype": "text/x-python",
   "name": "python",
   "nbconvert_exporter": "python",
   "pygments_lexer": "ipython3",
   "version": "3.7.3"
  }
 },
 "nbformat": 4,
 "nbformat_minor": 2
}
