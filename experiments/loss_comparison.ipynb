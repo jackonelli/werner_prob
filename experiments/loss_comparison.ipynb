{
 "cells": [
  {
   "cell_type": "code",
   "execution_count": null,
   "metadata": {},
   "outputs": [],
   "source": [
    "\"\"\"Training on MNIST\"\"\"\n",
    "\n",
    "# Trick the notebook to operate from the repo root\n",
    "import os\n",
    "from pathlib import Path\n",
    "os.chdir(Path.cwd() / \"..\")\n",
    "\n",
    "# Actual dependencies\n",
    "import torch\n",
    "import torch.optim as optim\n",
    "from src.train import train, TrainSettings\n",
    "import src.models.cnn as cnn\n",
    "from src.loss.cross_entropy import Loss as XeLoss\n",
    "from src.dataloaders import mnist\n",
    "\n",
    "\n",
    "def main():\n",
    "    \"\"\"Main entry point for script\"\"\"\n",
    "    num_epochs = 3\n",
    "    batch_size_train = 64\n",
    "    # batch_size_test = 1000\n",
    "    learning_rate = 0.01\n",
    "    momentum = 0.5\n",
    "\n",
    "    random_seed = 1\n",
    "    torch.backends.cudnn.enabled = False\n",
    "    torch.manual_seed(random_seed)\n",
    "\n",
    "    model = cnn.Net()\n",
    "    loss_function = XeLoss()\n",
    "    optimizer = optim.SGD(model.parameters(),\n",
    "                          lr=learning_rate,\n",
    "                          momentum=momentum)\n",
    "\n",
    "    train_settings = TrainSettings(log_interval=1000, num_epochs=num_epochs)\n",
    "    train(model, {\"train\": mnist.trainloader(batch_size_train)}, loss_function,\n",
    "          optimizer, train_settings)\n",
    "\n",
    "\n",
    "if __name__ == \"__main__\":\n",
    "    main()\n"
   ]
  }
 ],
 "metadata": {
  "kernelspec": {
   "display_name": "venv",
   "language": "python",
   "name": "venv"
  },
  "language_info": {
   "codemirror_mode": {
    "name": "ipython",
    "version": 3
   },
   "file_extension": ".py",
   "mimetype": "text/x-python",
   "name": "python",
   "nbconvert_exporter": "python",
   "pygments_lexer": "ipython3",
   "version": "3.6.7"
  }
 },
 "nbformat": 4,
 "nbformat_minor": 2
}
